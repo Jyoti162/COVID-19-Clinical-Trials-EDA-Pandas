{
 "cells": [
  {
   "cell_type": "markdown",
   "id": "50f7b18c-60b2-42cf-8685-90e1d2666420",
   "metadata": {},
   "source": [
    "## COVID-19 Clinical Trials EDA Pandas"
   ]
  },
  {
   "cell_type": "markdown",
   "id": "7d3fdf63-2e1d-4b18-a131-3d9b554cab92",
   "metadata": {},
   "source": [
    "- In this repository the visualization of stats and important graphs are obtained in order to better understand the relation of coronavirus and impactful graphs which can be used for advanced studies.\n",
    "\n",
    "- Coronaviruses are a large family of viruses which may cause illness in animals or humans. In humans, several coronaviruses are known to cause respiratory infections ranging from the common cold to more severe diseases such as Middle East Respiratory Syndrome (MERS) and Severe Acute Respiratory Syndrome (SARS). The most recently discovered coronavirus causes coronavirus disease COVID-19"
   ]
  },
  {
   "cell_type": "markdown",
   "id": "8e66a1c2-a834-4e54-a5d3-e16f972a7d7a",
   "metadata": {},
   "source": [
    "##### *Importing Libraries and Loading Data*\n",
    "##### *Analyze the data*\n",
    "##### *Handling Missing Value*\n",
    "##### *Visualize the data*"
   ]
  },
  {
   "cell_type": "markdown",
   "id": "c82dc7c9-4916-4657-b02c-434b2256fbc8",
   "metadata": {},
   "source": [
    "### *Unvariate Analysis*\n",
    "- Analyze each column individually to understand the distribution and key Characteristics.\n",
    "  - Status Distribution: Anlyze the status of clinical trials (e.g. Completed, Ongoing)\n",
    "  - Phase Distribution: Understand the distribution of trial Phases.\n",
    "Age Group Analysis: Analyze the distribution of age groups\n",
    "### *Bivariate Analysis*\n",
    "- Explore relationships between different variables.\n",
    "  - Status vs Phases: Explore how trial phases are distributed across different statuses.\n",
    "  - Condition vs Outcomes Measures: Understand the common outcome measure for different conditions."
   ]
  },
  {
   "cell_type": "markdown",
   "id": "0dea8100-f164-4b81-afdd-63144d604780",
   "metadata": {},
   "source": [
    "### *Time Series Analysis*\n",
    "- Analyze the trends over time, such as the number of trials started over the months"
   ]
  },
  {
   "cell_type": "markdown",
   "id": "07909677-6d6c-4d5d-b6d1-db9157099b1b",
   "metadata": {},
   "source": [
    "### *Status of studies*\n",
    "#### Status of the studies can be either of the following:\n",
    "- *Not yet recruiting*: The study has not started recruiting participants.\n",
    "- *Recruiting*: The study is currently recruiting participants.\n",
    "- *Enrolling by invitation*: The study is selecting its participants from a population, or group of people, decided on by the researchers in advance.   These studies are not open to everyone who meets the eligibility criteria but only to people in that particular population, who are specifically invited to participate.\n",
    "- *Active, not recruiting*: The study is ongoing, and participants are receiving an intervention or being examined, but potential participants are not currently being recruited or enrolled.\n",
    "- *Suspended*: The study has stopped early but may start again.\n",
    "- *Terminated*: The study has stopped early and will not start again. Participants are no longer being examined or treated.\n",
    "- *Completed*: The study has ended normally, and participants are no longer being examined or treated (that is, the last participant's last visit has occurred).\n",
    "- *Withdrawn*: The study stopped early, before enrolling its first participant.\n",
    "- *Unknown*: A study on ClinicalTrials.gov whose last known status was recruiting; not yet recruiting; or active, not recruiting but that has passed its completion date, and the status has not been last verified within the past 2 years."
   ]
  },
  {
   "cell_type": "markdown",
   "id": "22b7b47a-6e42-43f6-825b-97bbaafc8532",
   "metadata": {},
   "source": [
    "### *Study Types*\n",
    "Describes the nature of a clinical study. Study types include :\n",
    "\n",
    "##### Interventional studies (also called clinical trials),\n",
    "A type of clinical study in which participants are assigned to groups that receive one or more intervention/treatment (or no intervention) so that researchers can evaluate the effects of the interventions on biomedical or health-related outcomes. The assignments are determined by the study's protocol. Participants may receive diagnostic, therapeutic, or other types of interventions.\n",
    "\n",
    "##### Observational studies (including patient registries),\n",
    "A type of clinical study in which participants are identified as belonging to study groups and are assessed for biomedical or health outcomes. Participants may receive diagnostic, therapeutic, or other types of interventions, but the investigator does not assign participants to a specific interventions/treatment. A patient registry is a type of observational study.\n",
    "\n",
    "##### Expanded access.\n",
    "A way for patients with serious diseases or conditions who cannot participate in a clinical trial to gain access to a medical product that has not been approved by the U.S. Food and Drug Administration (FDA). Also called compassionate use. There are different expanded access types."
   ]
  },
  {
   "cell_type": "markdown",
   "id": "16d94246-9368-4016-9886-779f95223f61",
   "metadata": {},
   "source": [
    "#### *Interventions given*\n",
    "Intervention refers to the medicinal product (e.g drug, device, vaccine, placebo etc) given to the patients in a study. Let’s see the top five interventions given in these studies."
   ]
  },
  {
   "cell_type": "code",
   "execution_count": null,
   "id": "d550e629-f0a3-4c0c-b894-3f238daa0334",
   "metadata": {},
   "outputs": [],
   "source": []
  }
 ],
 "metadata": {
  "kernelspec": {
   "display_name": "Python 3 (ipykernel)",
   "language": "python",
   "name": "python3"
  },
  "language_info": {
   "codemirror_mode": {
    "name": "ipython",
    "version": 3
   },
   "file_extension": ".py",
   "mimetype": "text/x-python",
   "name": "python",
   "nbconvert_exporter": "python",
   "pygments_lexer": "ipython3",
   "version": "3.12.7"
  }
 },
 "nbformat": 4,
 "nbformat_minor": 5
}
